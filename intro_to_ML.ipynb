{
  "cells": [
    {
      "attachments": {},
      "cell_type": "markdown",
      "metadata": {
        "id": "P6_GSec1OXRM"
      },
      "source": [
        "## Importing Libraries"
      ]
    },
    {
      "cell_type": "code",
      "execution_count": null,
      "metadata": {
        "id": "5u7kqX0wONrr"
      },
      "outputs": [],
      "source": [
        "import numpy as np\n",
        "import pandas as pd\n",
        "import matplotlib.pyplot as plt"
      ]
    },
    {
      "cell_type": "markdown",
      "metadata": {
        "id": "9he9c_YvMqAL"
      },
      "source": [
        "## Reading Data and Preprocessing\n",
        "\n",
        "In this section, we want to read data from a CSV file and then preprocess it to make it ready for the rest of the problem.\n",
        "\n",
        "First, we read the data in the cell below and extract an $m \\times n$ matrix, $X$, and an $m \\times 1$ vector, $Y$, from it, which represent our knowledge about the building (`X1`, `X2`, ..., `X8`) and heating load (`Y1`), respectively. Note that by $m$, we mean the number of data points and by $n$, we mean the number of features."
      ]
    },
    {
      "cell_type": "code",
      "execution_count": null,
      "metadata": {
        "colab": {
          "base_uri": "https://localhost:8080/"
        },
        "id": "bV10SRSaJ_DJ",
        "outputId": "258465d7-cc7d-483a-b84d-0b819de7b175"
      },
      "outputs": [
        {
          "name": "stdout",
          "output_type": "stream",
          "text": [
            "(768, 8)\n",
            "(768, 1)\n"
          ]
        }
      ],
      "source": [
        "X, Y = None, None\n",
        "\n",
        "### START CODE HERE ###\n",
        "data = pd.read_csv('q1.csv')\n",
        "data = np.array(data)\n",
        "X = data[:, 0:8]\n",
        "Y = data[:, 8:9]\n",
        "### END CODE HERE ###\n",
        "\n",
        "print(X.shape)\n",
        "print(Y.shape)"
      ]
    },
    {
      "cell_type": "markdown",
      "metadata": {
        "id": "EkZeww-2OAuX"
      },
      "source": [
        "Next, we should normalize our data. For normalizing a vector $\\mathbf{x}$, a very common method is to use this formula:\n",
        "\n",
        "$$\n",
        "\\mathbf{x}_{norm} = \\dfrac{\\mathbf{x} - \\overline{\\mathbf{x}}}{\\sigma_\\mathbf{x}}\n",
        "$$\n",
        "\n",
        "Here, $\\overline{x}$ and $\\sigma_\\mathbf{x}$ denote the mean and standard deviation of vector $\\mathbf{x}$, respectively. Use this formula and store the new $X$ and $Y$ vectors in the cell below.\n",
        "\n",
        "**Question**: Briefly explain why we need to normalize our data before starting the training.\n",
        "\n",
        "**Answer**:Normalizing data before training is important because it helps in bringing all the features to a common scale. This ensures that no feature has more weightage than the other. It also helps in speeding up the training process and helps in avoiding the problem of exploding gradients. Normalization also helps in improving the accuracy of the model by ensuring that the model is not biased towards any particular feature."
      ]
    },
    {
      "cell_type": "code",
      "execution_count": null,
      "metadata": {
        "colab": {
          "base_uri": "https://localhost:8080/"
        },
        "id": "Y2i0bjxUPak2",
        "outputId": "ed2ebe39-54e6-4752-85d9-e9026d7c5303"
      },
      "outputs": [
        {
          "name": "stdout",
          "output_type": "stream",
          "text": [
            "(768, 1)\n"
          ]
        }
      ],
      "source": [
        "### START CODE HERE ###\n",
        "X = (X - np.mean(X, axis = 0))/np.std(X, axis = 0)\n",
        "Y = (Y - np.mean(Y, axis = 0))/np.std(Y, axis = 0)\n",
        "### END CODE HERE ###"
      ]
    },
    {
      "cell_type": "markdown",
      "metadata": {
        "id": "mvmHQ-mxQzDE"
      },
      "source": [
        "Finally, we should add a column of $1$s at the beginning of $X$ to represent the bias term. Do this in the next cell. Note that after this process, $X$ should be an $m \\times (n+1)$ matrix."
      ]
    },
    {
      "cell_type": "code",
      "execution_count": null,
      "metadata": {
        "colab": {
          "base_uri": "https://localhost:8080/"
        },
        "id": "QLfV7VQNRCfF",
        "outputId": "ba0d9443-53c7-4be8-aefe-dabf1ac04709"
      },
      "outputs": [
        {
          "name": "stdout",
          "output_type": "stream",
          "text": [
            "(768, 9)\n"
          ]
        }
      ],
      "source": [
        "### START CODE HERE ###\n",
        "ones = np.ones((X.shape[0], 1))\n",
        "X = np.hstack((ones, X))\n",
        "### END CODE HERE ###\n",
        "\n",
        "print(X.shape)"
      ]
    },
    {
      "cell_type": "markdown",
      "metadata": {
        "id": "nO--dppbRsdb"
      },
      "source": [
        "## Training Model Using Direct Method\n",
        "\n",
        "We know that the loss function in linear regression is defined as:\n",
        "\n",
        "$$\n",
        "\\mathcal{L}(\\mathbf{w}) = \\frac{1}{m}\\sum_{i=1}^{m}(\\mathbf{w}^\\top\\mathbf{x}_i-y_i)^2\n",
        "$$\n",
        "\n",
        "Here, $w$ is the weight vector and $(x_i, y_i)$ represents the $i$th data point. First, write a function that takes $X$, $Y$, and $w$ as inputs and returns the loss value in the next cell. Note that your implementation should be fully vectorized, meaning that you are not allowed to use any loops in your function and should only use functions prepared in the numpy library."
      ]
    },
    {
      "cell_type": "code",
      "execution_count": null,
      "metadata": {
        "id": "bSbXtyXCRzD3"
      },
      "outputs": [],
      "source": [
        "def loss(X, Y, w):\n",
        "  '''\n",
        "  X: an m by (n+1) matrix which includes inputs\n",
        "  Y: an m by 1 vector which includes heating loads\n",
        "  w: an (n+1) by 1 weight vector\n",
        "  '''\n",
        "  m, n = X.shape\n",
        "  loss = None\n",
        "  ### START CODE HERE ###\n",
        "  Z = X @ w \n",
        "  vec = X @ w - Y\n",
        "  loss = (1/m)*(vec.T @ vec)\n",
        "  ### END CODE HERE ###\n",
        "  return loss"
      ]
    },
    {
      "cell_type": "markdown",
      "metadata": {
        "id": "VuhSB9zaTfwm"
      },
      "source": [
        "Now, we want to calculate the weight matrix, $w$, using the direct method. By direct method, we mean finding the answer to the optimization problem below directly using linear algebra, without using iterative methods:\n",
        "\n",
        "$$\n",
        "\\min_{w} \\mathcal{L}(w)\n",
        "$$\n",
        "\n",
        "Question: What is the answer to this problem in terms of $X$ and $Y$?\n",
        "\n",
        "Answer: we know that the least squares solution is \n",
        "$$\n",
        "w = X^+ Y\n",
        "$$\n",
        "where $ X^+ $ is the psuedo inverse of $ X $.\n",
        "\n",
        "Now you should implement a function that receives $X$ and $Y$ as input and returns $w$. Note that your implementation should also be fully vectorized."
      ]
    },
    {
      "cell_type": "code",
      "execution_count": null,
      "metadata": {
        "id": "-gCUK01DT-cW"
      },
      "outputs": [],
      "source": [
        "def direct_method(X, Y):\n",
        "  '''\n",
        "  X: an m by (n+1) matrix which includes inputs\n",
        "  Y: an m by 1 vector which includes heating loads\n",
        "  '''\n",
        "  w = None\n",
        "  ### START CODE HERE ###\n",
        "  w = np.linalg.pinv(X) @ Y\n",
        "  ### END CODE HERE ###\n",
        "  return w"
      ]
    },
    {
      "cell_type": "markdown",
      "metadata": {
        "id": "thFIeOaSUvlw"
      },
      "source": [
        "Finally, we want to evaluate our loss for this problem. Run the cell below to calculate the loss of your model."
      ]
    },
    {
      "cell_type": "code",
      "execution_count": null,
      "metadata": {
        "colab": {
          "base_uri": "https://localhost:8080/"
        },
        "id": "6gGDh11VU8vF",
        "outputId": "623cd799-40c4-4cda-8fe9-03837ce45c67"
      },
      "outputs": [
        {
          "name": "stdout",
          "output_type": "stream",
          "text": [
            "[[-4.77048956e-17]\n",
            " [-6.79038297e-01]\n",
            " [-3.73577118e-01]\n",
            " [ 7.05448253e-02]\n",
            " [-3.98359602e-01]\n",
            " [ 7.23687495e-01]\n",
            " [-2.58653392e-03]\n",
            " [ 2.63170601e-01]\n",
            " [ 3.13216718e-02]]\n",
            "loss for this problem using direct method is [[0.08379792]]\n"
          ]
        }
      ],
      "source": [
        "w = direct_method(X, Y) # calculating w using direct method\n",
        "print(w)\n",
        "print(f\"loss for this problem using direct method is {loss(X, Y, w)}\")"
      ]
    },
    {
      "cell_type": "markdown",
      "metadata": {
        "id": "QaG14YG9VXiS"
      },
      "source": [
        "## Training Model Using Gradient Descent\n",
        "\n",
        "Now, instead of using the direct method to calculate $w$, we want to use the **Gradient Descent** algorithm. We know that in this algorithm, in each iteration, we should update our weight vector with:\n",
        "\n",
        "$$\n",
        "\\mathbf{w}^{(t+1)} = \\mathbf{w}^{(t)} - \\alpha \\nabla \\mathcal{L}(\\mathbf{w}^{(t)})\n",
        "$$\n",
        "\n",
        "Here, $w^{t}$ represents the weight matrix in the $t$th iteration, and $\\alpha$ represents the learning rate.\n",
        "\n",
        "**Question**: Write an expression for $\\nabla\\mathcal{L}(\\mathbf{w})$.\n",
        "\n",
        "**Answer**: we know the loss function is\n",
        "$$\n",
        " \\mathcal{L}(w) = (Xw - Y)^T(Xw - Y)\n",
        "$$\n",
        "which its gradient is \n",
        "$$\n",
        " \\nabla\\mathcal{L}(\\mathbf{w}) = 2X^T(Xw - Y)\n",
        "$$\n",
        "Now, write a function that computes the gradient of $\\mathcal{L}(\\mathbf{w})$. This function should receive $X$, $Y$, and $\\mathbf{w}$ as inputs and return an $(n+1) \\times 1$ vector, which represents $\\nabla\\mathcal{L}(\\mathbf{w})$. Note that your implementation should also be **fully vectorized**."
      ]
    },
    {
      "cell_type": "code",
      "execution_count": null,
      "metadata": {
        "id": "yqVQ-8I-VeVc"
      },
      "outputs": [],
      "source": [
        "def gradient(X, Y, w):\n",
        "  '''\n",
        "  X: an m by (n+1) matrix which includes inputs\n",
        "  Y: an m by 1 vector which includes heating loads\n",
        "  w: an (n+1) by 1 weight vector\n",
        "  '''\n",
        "  m, n = X.shape\n",
        "  grad = None\n",
        "  ### START CODE HERE ###\n",
        "  grad = 2*X.T @ (X @ w - Y)\n",
        "  ### END CODE HERE ###\n",
        "  return grad"
      ]
    },
    {
      "cell_type": "markdown",
      "metadata": {
        "id": "TJP5KaZzXz5K"
      },
      "source": [
        "Now, we are ready to implement the Gradient Descent algorithm. Complete the function below for this purpose. Note that this function receives $X$, $Y$, the learning rate, and the number of iterations as inputs. This function should return two parameters. The first parameter is $\\mathbf{w}$, and the second parameter is a `numpy` array that contains the loss in each iteration. This array is indicated by `loss_history` in the code. Also note that you should initialize $\\mathbf{w}$ with the `randn` function."
      ]
    },
    {
      "cell_type": "code",
      "execution_count": null,
      "metadata": {
        "id": "qdfNjz5DYgD7"
      },
      "outputs": [],
      "source": [
        "def gradient_descent(X, Y, alpha, num_iter):\n",
        "  '''\n",
        "  X: an m by (n+1) matrix which includes inputs\n",
        "  Y: an m by 1 vector which includes heating loads\n",
        "  alpha: learning rate\n",
        "  num_iter: number of iterations of the algorithm\n",
        "  '''\n",
        "  m, n = X.shape\n",
        "  w, loss_history = None, None \n",
        "  ### START CODE HERE ###\n",
        "  w = np.random.randn(n, 1)\n",
        "  loss_history = np.zeros((num_iter, 1))\n",
        "  for i in range(num_iter):\n",
        "    loss_history[i] = loss(X, Y, w)\n",
        "    w = w - alpha*gradient(X, Y, w)\n",
        "  ### END CODE HERE ###\n",
        "  return w, loss_history"
      ]
    },
    {
      "cell_type": "markdown",
      "metadata": {
        "id": "CjGioRweZK9O"
      },
      "source": [
        "Now, run the `gradient_descent` function for 5 different values of the learning rate. Plot the `loss_history` of these 5 different values in the same figure.\n",
        "\n",
        "**Question**: Discuss the effect of the learning rate and find the best value of this parameter.\n",
        "\n",
        "**Answer**: Here the best learning rate is 0.00035, if the learning rate is greater than it, the algorithm won't converge. We can decrease the learning rate but the speed of convergence will decrease. In the following plots you can see that with increasing learning rate, the speed of convergence increases, but if it goes higher than 0.00035, the loss grows very rapdly."
      ]
    },
    {
      "cell_type": "code",
      "execution_count": null,
      "metadata": {
        "colab": {
          "base_uri": "https://localhost:8080/",
          "height": 1000
        },
        "id": "yMuwbOokZtcL",
        "outputId": "fe6e5c8a-370a-49e2-8c62-50deb2fc13ee"
      },
      "outputs": [
        {
          "data": {
            "image/png": "[encoded data removed]",
            "text/plain": [
              "<Figure size 640x480 with 1 Axes>"
            ]
          },
          "metadata": {},
          "output_type": "display_data"
        },
        {
          "data": {
            "image/png": "[encoded data removed]",
            "text/plain": [
              "<Figure size 640x480 with 1 Axes>"
            ]
          },
          "metadata": {},
          "output_type": "display_data"
        },
        {
          "data": {
            "image/png": "[encoded data removed]",
            "text/plain": [
              "<Figure size 640x480 with 1 Axes>"
            ]
          },
          "metadata": {},
          "output_type": "display_data"
        },
        {
          "data": {
            "image/png": "[encoded data removed]",
            "text/plain": [
              "<Figure size 640x480 with 1 Axes>"
            ]
          },
          "metadata": {},
          "output_type": "display_data"
        },
        {
          "data": {
            "image/png": "[encoded data removed]",
            "text/plain": [
              "<Figure size 640x480 with 1 Axes>"
            ]
          },
          "metadata": {},
          "output_type": "display_data"
        },
        {
          "data": {
            "image/png": "[encoded data removed]",
            "text/plain": [
              "<Figure size 640x480 with 1 Axes>"
            ]
          },
          "metadata": {},
          "output_type": "display_data"
        }
      ],
      "source": [
        "### START CODE HERE ###\n",
        "num_iter = 50\n",
        "num_learn_rate = 6\n",
        "loss_history = np.zeros((num_iter, num_learn_rate))\n",
        "alpha = np.linspace(0.0001, 0.0004, num_learn_rate)\n",
        "for i in range(len(alpha)):\n",
        "    x, loss_history[:, i:i+1] = gradient_descent(X, Y, alpha[i], num_iter)\n",
        "    plt.plot(loss_history[:, i])\n",
        "    plt.title(f\"learning rate = {alpha[i]:.5f}\", )\n",
        "    plt.show()\n",
        "\n",
        "\n",
        "# gradient_descent(X, Y, 0.00035, 150)\n",
        "### END CODE HERE ###"
      ]
    },
    {
      "cell_type": "markdown",
      "metadata": {
        "id": "k-lyJhZqZ18d"
      },
      "source": [
        "## Conclusion\n",
        "\n",
        "Compare the answer of two different methods that we used earlier.\n",
        "\n",
        "**Question**: Discuss these two methods and compare them with each other. When is it better to use the direct method, and when is it better to use Gradient Descent?\n",
        "\n",
        "**Answer**:The direct method is used when we have a small dataset and the number of features is not too large. In this case, we can calculate the weight matrix directly using linear algebra, without using iterative methods. On the other hand, Gradient Descent is used when we have a large dataset and the number of features is large. In this case, it is computationally expensive to calculate the weight matrix directly, so we use iterative methods like Gradient Descent to find the optimal weights."
      ]
    },
    {
      "cell_type": "markdown",
      "metadata": {
        "id": "MF15dsmXaUzJ"
      },
      "source": [
        "## (Additional Part) Stochastic Gradient Descent\n",
        "\n",
        "When the number of data points becomes large, calculating the gradient becomes very complicated. In these circumstances, we use **Stochastic Gradient Descent**. In this algorithm, instead of using all of the data points to calculate the gradient, we use only a small number of them. We choose these small number of points randomly in each iteration. Implement this algorithm, and use it to calculate $w$, and then compare the result with the preceding parts."
      ]
    },
    {
      "cell_type": "code",
      "execution_count": null,
      "metadata": {
        "colab": {
          "base_uri": "https://localhost:8080/"
        },
        "id": "6cHTQFgOaQBB",
        "outputId": "89427dee-69ee-4af4-9f44-77a0a175400e"
      },
      "outputs": [
        {
          "name": "stdout",
          "output_type": "stream",
          "text": [
            "(array([[-0.00766275],\n",
            "       [-0.59301493],\n",
            "       [-0.99180547],\n",
            "       [ 0.41438169],\n",
            "       [ 0.18899041],\n",
            "       [ 0.58071853],\n",
            "       [-0.00169536],\n",
            "       [ 0.2759799 ],\n",
            "       [ 0.03977815]]), array([[23.87690606],\n",
            "       [ 9.51336007],\n",
            "       [ 4.99586557],\n",
            "       [ 2.37370697],\n",
            "       [ 1.25268585],\n",
            "       [ 0.7482143 ],\n",
            "       [ 0.48912145],\n",
            "       [ 0.34562671],\n",
            "       [ 0.27089663],\n",
            "       [ 0.23251499],\n",
            "       [ 0.20910137],\n",
            "       [ 0.1973427 ],\n",
            "       [ 0.18934062],\n",
            "       [ 0.18376074],\n",
            "       [ 0.18145315],\n",
            "       [ 0.17713367],\n",
            "       [ 0.17441313],\n",
            "       [ 0.17170312],\n",
            "       [ 0.16874714],\n",
            "       [ 0.16588971],\n",
            "       [ 0.1634475 ],\n",
            "       [ 0.16171039],\n",
            "       [ 0.15829555],\n",
            "       [ 0.15776663],\n",
            "       [ 0.15386998],\n",
            "       [ 0.1520021 ],\n",
            "       [ 0.1501802 ],\n",
            "       [ 0.14915287],\n",
            "       [ 0.14580904],\n",
            "       [ 0.14408634],\n",
            "       [ 0.14238945],\n",
            "       [ 0.14174124],\n",
            "       [ 0.13893467],\n",
            "       [ 0.1376573 ],\n",
            "       [ 0.13614924],\n",
            "       [ 0.13499509],\n",
            "       [ 0.13299566],\n",
            "       [ 0.13132778],\n",
            "       [ 0.13042413],\n",
            "       [ 0.12904243],\n",
            "       [ 0.12715938],\n",
            "       [ 0.1260127 ],\n",
            "       [ 0.12491284],\n",
            "       [ 0.12329453],\n",
            "       [ 0.12231742],\n",
            "       [ 0.12210865],\n",
            "       [ 0.12172655],\n",
            "       [ 0.11906141],\n",
            "       [ 0.11843996],\n",
            "       [ 0.11701414],\n",
            "       [ 0.11636936],\n",
            "       [ 0.11497082],\n",
            "       [ 0.113962  ],\n",
            "       [ 0.11346007],\n",
            "       [ 0.11220826],\n",
            "       [ 0.11111586],\n",
            "       [ 0.11051141],\n",
            "       [ 0.10966494],\n",
            "       [ 0.10915466],\n",
            "       [ 0.10811009],\n",
            "       [ 0.10778395],\n",
            "       [ 0.10657921],\n",
            "       [ 0.10596909],\n",
            "       [ 0.10538889],\n",
            "       [ 0.10451778],\n",
            "       [ 0.10496628],\n",
            "       [ 0.10335648],\n",
            "       [ 0.10290106],\n",
            "       [ 0.10257804],\n",
            "       [ 0.10287996],\n",
            "       [ 0.10170865],\n",
            "       [ 0.10118315],\n",
            "       [ 0.10154727],\n",
            "       [ 0.10072062],\n",
            "       [ 0.09955698],\n",
            "       [ 0.09907188],\n",
            "       [ 0.0992056 ],\n",
            "       [ 0.0987829 ],\n",
            "       [ 0.09757103],\n",
            "       [ 0.09736308],\n",
            "       [ 0.09751085],\n",
            "       [ 0.09739097],\n",
            "       [ 0.09670901],\n",
            "       [ 0.09597384],\n",
            "       [ 0.09562762],\n",
            "       [ 0.09497782],\n",
            "       [ 0.09494013],\n",
            "       [ 0.09486581],\n",
            "       [ 0.09438348],\n",
            "       [ 0.09400731],\n",
            "       [ 0.09393175],\n",
            "       [ 0.09327542],\n",
            "       [ 0.09277703],\n",
            "       [ 0.09262524],\n",
            "       [ 0.09230272],\n",
            "       [ 0.09202837],\n",
            "       [ 0.09172746],\n",
            "       [ 0.09154409],\n",
            "       [ 0.09138521],\n",
            "       [ 0.09095372],\n",
            "       [ 0.09105282],\n",
            "       [ 0.09099447],\n",
            "       [ 0.09057826],\n",
            "       [ 0.0907702 ],\n",
            "       [ 0.09031886],\n",
            "       [ 0.08990625],\n",
            "       [ 0.08966444],\n",
            "       [ 0.09002509],\n",
            "       [ 0.08935727],\n",
            "       [ 0.08906316],\n",
            "       [ 0.08895459],\n",
            "       [ 0.08919261],\n",
            "       [ 0.08894287],\n",
            "       [ 0.08855714],\n",
            "       [ 0.08840951],\n",
            "       [ 0.08902023],\n",
            "       [ 0.08824028],\n",
            "       [ 0.08815148],\n",
            "       [ 0.08812448],\n",
            "       [ 0.08782648],\n",
            "       [ 0.08793596],\n",
            "       [ 0.08784981],\n",
            "       [ 0.08765773],\n",
            "       [ 0.08741321],\n",
            "       [ 0.08762399],\n",
            "       [ 0.08835681],\n",
            "       [ 0.08725939],\n",
            "       [ 0.08710743],\n",
            "       [ 0.08691809],\n",
            "       [ 0.08686489],\n",
            "       [ 0.08680807],\n",
            "       [ 0.08780413],\n",
            "       [ 0.08685158],\n",
            "       [ 0.08660327],\n",
            "       [ 0.08646649],\n",
            "       [ 0.08631341],\n",
            "       [ 0.08647503],\n",
            "       [ 0.08632736],\n",
            "       [ 0.08621242],\n",
            "       [ 0.08617813],\n",
            "       [ 0.08618192],\n",
            "       [ 0.08598674],\n",
            "       [ 0.0862793 ],\n",
            "       [ 0.08590705],\n",
            "       [ 0.08580008],\n",
            "       [ 0.08590964],\n",
            "       [ 0.08591242],\n",
            "       [ 0.0860278 ],\n",
            "       [ 0.08585046],\n",
            "       [ 0.08675028]]))\n",
            "(array([[-5.21957427e-17],\n",
            "       [ 5.08232668e-01],\n",
            "       [ 3.44322531e-01],\n",
            "       [ 2.88929067e-01],\n",
            "       [ 4.79479855e-01],\n",
            "       [ 1.24653490e+00],\n",
            "       [-2.58653392e-03],\n",
            "       [ 2.63170601e-01],\n",
            "       [ 3.13216718e-02]]), array([[6.47849982],\n",
            "       [1.29312068],\n",
            "       [0.47278868],\n",
            "       [0.32840287],\n",
            "       [0.29792712],\n",
            "       [0.28831544],\n",
            "       [0.28287285],\n",
            "       [0.27838944],\n",
            "       [0.27421105],\n",
            "       [0.27019566],\n",
            "       [0.26630837],\n",
            "       [0.26253765],\n",
            "       [0.25887733],\n",
            "       [0.25532267],\n",
            "       [0.25186943],\n",
            "       [0.24851362],\n",
            "       [0.24525148],\n",
            "       [0.24207941],\n",
            "       [0.23899402],\n",
            "       [0.23599203],\n",
            "       [0.23307037],\n",
            "       [0.23022606],\n",
            "       [0.2274563 ],\n",
            "       [0.2247584 ],\n",
            "       [0.22212979],\n",
            "       [0.21956803],\n",
            "       [0.21707078],\n",
            "       [0.21463581],\n",
            "       [0.21226099],\n",
            "       [0.20994428],\n",
            "       [0.20768373],\n",
            "       [0.20547748],\n",
            "       [0.20332376],\n",
            "       [0.20122085],\n",
            "       [0.19916712],\n",
            "       [0.19716102],\n",
            "       [0.19520105],\n",
            "       [0.19328576],\n",
            "       [0.1914138 ],\n",
            "       [0.18958383],\n",
            "       [0.18779459],\n",
            "       [0.18604488],\n",
            "       [0.18433352],\n",
            "       [0.18265939],\n",
            "       [0.18102143],\n",
            "       [0.1794186 ],\n",
            "       [0.1778499 ],\n",
            "       [0.17631438],\n",
            "       [0.17481111],\n",
            "       [0.17333923],\n",
            "       [0.17189786],\n",
            "       [0.1704862 ],\n",
            "       [0.16910345],\n",
            "       [0.16774885],\n",
            "       [0.16642166],\n",
            "       [0.16512117],\n",
            "       [0.16384671],\n",
            "       [0.1625976 ],\n",
            "       [0.16137321],\n",
            "       [0.16017293],\n",
            "       [0.15899615],\n",
            "       [0.1578423 ],\n",
            "       [0.15671083],\n",
            "       [0.15560119],\n",
            "       [0.15451286],\n",
            "       [0.15344534],\n",
            "       [0.15239813],\n",
            "       [0.15137077],\n",
            "       [0.15036279],\n",
            "       [0.14937375],\n",
            "       [0.14840321],\n",
            "       [0.14745076],\n",
            "       [0.14651598],\n",
            "       [0.14559849],\n",
            "       [0.14469789],\n",
            "       [0.14381382],\n",
            "       [0.14294592],\n",
            "       [0.14209383],\n",
            "       [0.14125721],\n",
            "       [0.14043572],\n",
            "       [0.13962905],\n",
            "       [0.13883687],\n",
            "       [0.13805889],\n",
            "       [0.1372948 ],\n",
            "       [0.13654431],\n",
            "       [0.13580714],\n",
            "       [0.13508302],\n",
            "       [0.13437166],\n",
            "       [0.13367282],\n",
            "       [0.13298624],\n",
            "       [0.13231167],\n",
            "       [0.13164886],\n",
            "       [0.13099757],\n",
            "       [0.13035759],\n",
            "       [0.12972867],\n",
            "       [0.12911061],\n",
            "       [0.12850318],\n",
            "       [0.12790617],\n",
            "       [0.12731939],\n",
            "       [0.12674262],\n",
            "       [0.12617568],\n",
            "       [0.12561837],\n",
            "       [0.12507051],\n",
            "       [0.12453191],\n",
            "       [0.12400239],\n",
            "       [0.12348179],\n",
            "       [0.12296992],\n",
            "       [0.12246662],\n",
            "       [0.12197174],\n",
            "       [0.1214851 ],\n",
            "       [0.12100655],\n",
            "       [0.12053595],\n",
            "       [0.12007313],\n",
            "       [0.11961795],\n",
            "       [0.11917028],\n",
            "       [0.11872996],\n",
            "       [0.11829686],\n",
            "       [0.11787085],\n",
            "       [0.1174518 ],\n",
            "       [0.11703957],\n",
            "       [0.11663404],\n",
            "       [0.11623509],\n",
            "       [0.11584259],\n",
            "       [0.11545643],\n",
            "       [0.11507649],\n",
            "       [0.11470265],\n",
            "       [0.1143348 ],\n",
            "       [0.11397284],\n",
            "       [0.11361665],\n",
            "       [0.11326614],\n",
            "       [0.11292119],\n",
            "       [0.11258171],\n",
            "       [0.11224759],\n",
            "       [0.11191875],\n",
            "       [0.11159508],\n",
            "       [0.1112765 ],\n",
            "       [0.11096291],\n",
            "       [0.11065421],\n",
            "       [0.11035033],\n",
            "       [0.11005118],\n",
            "       [0.10975666],\n",
            "       [0.10946671],\n",
            "       [0.10918123],\n",
            "       [0.10890016],\n",
            "       [0.1086234 ],\n",
            "       [0.10835088],\n",
            "       [0.10808253],\n",
            "       [0.10781827],\n",
            "       [0.10755804],\n",
            "       [0.10730175]]))\n"
          ]
        }
      ],
      "source": [
        "def stochastic_gradient_descent(X, Y, k, alpha, num_iter):\n",
        "  '''\n",
        "  X: an m by (n+1) matrix which includes inputs\n",
        "  Y: an m by 1 vector which includes heating loads\n",
        "  k: number of data points used in each iteration\n",
        "  alpha: learning rate\n",
        "  num_iter: number of iterations of the algorithm\n",
        "  '''\n",
        "  m, n = X.shape\n",
        "  w, loss_history = None, None \n",
        "  ### START CODE HERE ###\n",
        "  w = np.random.randn(n, 1)\n",
        "  loss_history = np.zeros((num_iter, 1))\n",
        "  for i in range(num_iter):\n",
        "    random_rows = np.random.randint(0, m-1, k)\n",
        "    X1 = X[random_rows]\n",
        "    Y1 = Y[random_rows]\n",
        "    loss_history[i] = loss(X, Y, w)\n",
        "    w = w - alpha*gradient(X1, Y1, w)\n",
        "  ### END CODE HERE ###\n",
        "  return w, loss_history\n",
        "\n",
        "\n",
        "print(stochastic_gradient_descent(X, Y, 400, 0.00035, 150))\n",
        "print(gradient_descent(X, Y, 0.00035, 150))"
      ]
    }
  ],
  "metadata": {
    "colab": {
      "provenance": [],
      "toc_visible": true
    },
    "kernelspec": {
      "display_name": "Python 3",
      "name": "python3"
    },
    "language_info": {
      "name": "python"
    }
  },
  "nbformat": 4,
  "nbformat_minor": 0
}
